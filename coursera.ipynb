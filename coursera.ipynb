{
 "cells": [
  {
   "cell_type": "markdown",
   "id": "6f3d9593",
   "metadata": {},
   "source": [
    "# Data Science Tools and Ecosystem"
   ]
  },
  {
   "cell_type": "markdown",
   "id": "0d135c64",
   "metadata": {},
   "source": [
    "In this notebook, Data Science Tools and Ecosystem are summarized"
   ]
  },
  {
   "cell_type": "markdown",
   "id": "a89da197",
   "metadata": {},
   "source": [
    "Some of the popular languages that Data Scientists use are:\n",
    "1. Python\n",
    "2. R\n",
    "3. SQL\n",
    "4. Scala\n",
    "5. Java\n",
    "6. Php"
   ]
  },
  {
   "cell_type": "markdown",
   "id": "aabb8bfa",
   "metadata": {},
   "source": [
    "Some of the commonly used libraries used by Data Scientists include:\n",
    "1. Pandas\n",
    "2. Numpy\n",
    "3. Matplotlib\n",
    "4. Seaborn\n",
    "5. Scikit-learn\n",
    "6. Keras"
   ]
  },
  {
   "cell_type": "markdown",
   "id": "a7e1b98b",
   "metadata": {},
   "source": [
    "Data Science Tools\n",
    "-----------------------------\n",
    "Anaconda\n",
    "\n",
    "Jupyter Notebooks\n",
    "\n",
    "R Studio\n",
    "\n",
    "Spyder\n",
    "\n",
    "Zeppelin\n"
   ]
  },
  {
   "cell_type": "markdown",
   "id": "17f7b009",
   "metadata": {},
   "source": [
    "Below are a few examples of evaluating arithmetic expressions in Python"
   ]
  },
  {
   "cell_type": "code",
   "execution_count": 1,
   "id": "a97ea235",
   "metadata": {},
   "outputs": [
    {
     "data": {
      "text/plain": [
       "17"
      ]
     },
     "execution_count": 1,
     "metadata": {},
     "output_type": "execute_result"
    }
   ],
   "source": [
    "#this is a simple arithmetic expression to multiply then add integers\n",
    "(3*4)+5"
   ]
  },
  {
   "cell_type": "code",
   "execution_count": 2,
   "id": "ef0505c7",
   "metadata": {},
   "outputs": [
    {
     "data": {
      "text/plain": [
       "3"
      ]
     },
     "execution_count": 2,
     "metadata": {},
     "output_type": "execute_result"
    }
   ],
   "source": [
    "#this will convert 200 minutes to hours by dividing by 60\n",
    "200//60"
   ]
  },
  {
   "cell_type": "markdown",
   "id": "1eceb8d4",
   "metadata": {},
   "source": [
    "##### objectives:\n",
    "Add comments to code\n",
    "\n",
    "Create markdown cells\n",
    "\n",
    "Add ordered and unordered lists to markdown cells\n",
    "\n",
    "format content of markdown cells with heading styles"
   ]
  },
  {
   "cell_type": "markdown",
   "id": "76062e5c",
   "metadata": {},
   "source": [
    "## Author\n",
    "\n",
    "Odugbemi Oreoluwa Susan"
   ]
  },
  {
   "cell_type": "code",
   "execution_count": null,
   "id": "4f59115e",
   "metadata": {},
   "outputs": [],
   "source": []
  }
 ],
 "metadata": {
  "kernelspec": {
   "display_name": "Python 3 (ipykernel)",
   "language": "python",
   "name": "python3"
  },
  "language_info": {
   "codemirror_mode": {
    "name": "ipython",
    "version": 3
   },
   "file_extension": ".py",
   "mimetype": "text/x-python",
   "name": "python",
   "nbconvert_exporter": "python",
   "pygments_lexer": "ipython3",
   "version": "3.11.4"
  }
 },
 "nbformat": 4,
 "nbformat_minor": 5
}
